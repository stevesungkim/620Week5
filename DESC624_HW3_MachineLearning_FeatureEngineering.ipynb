{
  "nbformat": 4,
  "nbformat_minor": 0,
  "metadata": {
    "colab": {
      "provenance": [],
      "toc_visible": true,
      "include_colab_link": true
    },
    "kernelspec": {
      "name": "python3",
      "display_name": "Python 3"
    },
    "language_info": {
      "name": "python"
    }
  },
  "cells": [
    {
      "cell_type": "markdown",
      "metadata": {
        "id": "view-in-github",
        "colab_type": "text"
      },
      "source": [
        "<a href=\"https://colab.research.google.com/github/stevesungkim/620Week5/blob/main/DESC624_HW3_MachineLearning_FeatureEngineering.ipynb\" target=\"_parent\"><img src=\"https://colab.research.google.com/assets/colab-badge.svg\" alt=\"Open In Colab\"/></a>"
      ]
    },
    {
      "cell_type": "markdown",
      "metadata": {
        "id": "RgcSPnoafO2o"
      },
      "source": [
        "#**DESC 624 - Machine Learning Modeling**#\n",
        "\n",
        "HW #3"
      ]
    },
    {
      "cell_type": "markdown",
      "metadata": {
        "id": "p9Yv-bdDKxxt"
      },
      "source": [
        "1. Remember to execute code as you go along by hitting the play button. \n",
        "2. Do not run things out of order.  You need to run things in sequence\n",
        "3. If you pick Python, do **NOT** execute R blocks, if you pick R, do **NOT**  execute the Python blocks\n",
        "4. Exception to 3., run everything in Section 1 for both R and Python (this way you have the environments properly set up for both)\n",
        "5. Please make a copy of this notebook to **YOUR** Google Drive. \n",
        "  File -> Save a Copy in Drive\n",
        "6. You will submit the actual notebook, so I can run it and you will submit a PDF version (File -> Print) of the complete notebook in which you have executed each coding block.\n",
        "7. Please name your notebook and PDF version in the following way:\n",
        "\n",
        "  HW3_lastname_firstname.ipynb for the notebook\n",
        "\n",
        "  HW3_lastname_firstname.pdf for the PDF \n",
        "\n",
        "\n",
        "\n"
      ]
    },
    {
      "cell_type": "markdown",
      "metadata": {
        "id": "UdP0dRFggBfF"
      },
      "source": [
        "You must use %%R at the top of each notebook block in order for the code to be interpreted as R code. \n",
        "\n",
        "\"#\" before or after code is a comment\n",
        "\n",
        "If you do not specify %%R at the top of the notebook block, the notebook will interpret the code as Python code.  \n",
        "\n",
        "You are welcome to use whatever your prefer or both Python and R to do the work.  If you pick one or the other, before you finalize and submit your workbook, please delete the blocks of code you did not use (i.e., If you pick Python, delete all of the R code blocks)\n",
        "\n",
        "You MUST use \n",
        "\n",
        "\"#!pip install rpy2\"\n",
        "\n",
        "\"%load_ext rpy2.ipython\"\n",
        "\n",
        "Before any R code is executed. Notice how this block of code does NOT contain a %%R at the top. "
      ]
    },
    {
      "cell_type": "code",
      "metadata": {
        "id": "BNOQq6DSEX3N"
      },
      "source": [
        "#!pip3 install rpy2\n",
        "%load_ext rpy2.ipython"
      ],
      "execution_count": null,
      "outputs": []
    },
    {
      "cell_type": "code",
      "metadata": {
        "id": "7cNC4iuudIj_"
      },
      "source": [
        "!apt-get install default-jre\n",
        "!java -version"
      ],
      "execution_count": null,
      "outputs": []
    },
    {
      "cell_type": "markdown",
      "metadata": {
        "id": "iJvKgu44LLn2"
      },
      "source": [
        "#**I. Python Setup Section**"
      ]
    },
    {
      "cell_type": "code",
      "metadata": {
        "id": "kygGrrqgyfrZ"
      },
      "source": [
        "##Python Packages\n",
        "import pandas as pd\n",
        "from sklearn import tree\n",
        "import pydotplus\n",
        "from sklearn.tree import DecisionTreeClassifier\n",
        "import matplotlib.pyplot as plt\n",
        "import matplotlib.image as pltimg\n",
        "import seaborn as sn\n",
        "import numpy as np\n",
        "from scipy import stats"
      ],
      "execution_count": null,
      "outputs": []
    },
    {
      "cell_type": "code",
      "metadata": {
        "id": "LYcHvAlX0Cru"
      },
      "source": [
        "#Install python datatable which is the same as data.table() in R\n",
        "!pip install datatable\n",
        "import datatable as dt\n",
        "\n",
        "from datatable import (dt, f, by, ifelse, update, sort,\n",
        "                       count, min, max, mean, sum, rowsum)"
      ],
      "execution_count": null,
      "outputs": []
    },
    {
      "cell_type": "code",
      "metadata": {
        "id": "crFvhSnv1EdB"
      },
      "source": [
        "#Python h2o\n",
        "\n",
        "#h2o is the Machine Learning package we will be using. It has both an R implementation and a Python implemenation. \n",
        "#The h2o.init() is commented out below because we are not going to use it for this HW.  You can only have on instance (either Python or R)\n",
        "#of h2o running in any one session. \n",
        "\n",
        "! pip install h2o\n",
        "\n",
        "import h2o\n",
        "\n",
        "#h2o.init()\n",
        "#h2o.shutdown()"
      ],
      "execution_count": null,
      "outputs": []
    },
    {
      "cell_type": "markdown",
      "metadata": {
        "id": "c7OL8ssaMG-N"
      },
      "source": [
        "#**II. Python Data Loading**"
      ]
    },
    {
      "cell_type": "code",
      "metadata": {
        "id": "UiS2yuvi0Awz"
      },
      "source": [
        "cc_p = dt.fread(\"https://raw.githubusercontent.com/jjghockey/DESC624/main/UCI_Credit_Card.csv\") \n",
        "\n",
        "cc_pd=cc_p.to_pandas()\n",
        "cc_pd.rename(columns = {\"default.payment.next.month\": \"defaultpaymentnextmonth\"}, inplace=True)\n",
        "cc_p=dt.Frame(cc_pd)\n",
        "\n",
        "#Please note that there are TWO separate objects here, cc_p and cc_pd\n",
        "#cc_p is in Pandas format in Python and cc_pd is in datatable format in Python\n",
        "#To convert between the two do the following: \n",
        "#cc_pd=cc_p.to_pandas() will copy all of the contents from cc_p into cc_pd (cc_pd will be in Pandas)\n",
        "#cc_p=dt.Frame(cc_pd) will copy all of the content from cc_pd into cc_p (cc_p will be in datatable)\n",
        "print(cc_p.head())\n",
        "print(cc_pd.head())"
      ],
      "execution_count": null,
      "outputs": []
    },
    {
      "cell_type": "markdown",
      "metadata": {
        "id": "8FWhABonMiUI"
      },
      "source": [
        "#**III. Python Data Exploration**"
      ]
    },
    {
      "cell_type": "code",
      "metadata": {
        "id": "1sFvlpsM_Gef"
      },
      "source": [
        "#III. Data Exploration"
      ],
      "execution_count": null,
      "outputs": []
    },
    {
      "cell_type": "markdown",
      "metadata": {
        "id": "vdPGN6GoM_yE"
      },
      "source": [
        "#**IV. Python Data Processing**"
      ]
    },
    {
      "cell_type": "code",
      "metadata": {
        "id": "dlsJzXRLC-hF"
      },
      "source": [
        "#IV. Data Processing --------------------------------------------\n",
        "#A. Adjust values based on the review of the data\n"
      ],
      "execution_count": null,
      "outputs": []
    },
    {
      "cell_type": "code",
      "metadata": {
        "id": "ZRZwmVexJEIg"
      },
      "source": [
        "#B. Filter the data\n"
      ],
      "execution_count": null,
      "outputs": []
    },
    {
      "cell_type": "code",
      "metadata": {
        "id": "rjBeOMhAJrrn"
      },
      "source": [
        "#C. Build additional features\n",
        "\n"
      ],
      "execution_count": null,
      "outputs": []
    },
    {
      "cell_type": "markdown",
      "metadata": {
        "id": "9guzsGbPPWia"
      },
      "source": [
        "#**V. Python Data Analysis**"
      ]
    },
    {
      "cell_type": "markdown",
      "metadata": {
        "id": "oQVChsE9U5aQ"
      },
      "source": [
        "**Prepare Model**\n",
        "\n",
        "1. You are to prepare 2 separate models and evaluations. There is only code for one below, so please copy and paste as appropriate. You should use the same X variables in both models.\n",
        "\n",
        "2. Please select from any of the following model types:\n",
        "\n",
        "  a. Random Forest\n",
        "\n",
        "  b. Logistic Regression\n",
        "\n",
        "  c. Naive Bayes\n",
        "\n",
        "  d. Gradient Boosted Machines\n",
        "\n",
        "  e. Neural Nets\n",
        "\n",
        "3. Compare and Contrast your models' prediction (via AUC or other metric), your importance features.  Did the different models have different importance features.  Why do you think that is?\n"
      ]
    },
    {
      "cell_type": "code",
      "metadata": {
        "id": "1fEEHpGkf2Q8"
      },
      "source": [
        "import h2o\n",
        "\n",
        "h2o.init()\n",
        "#h2o.shutdown()"
      ],
      "execution_count": null,
      "outputs": []
    },
    {
      "cell_type": "code",
      "metadata": {
        "id": "l6n_I_TgPaoj"
      },
      "source": [
        "#A. Prepare data for h2o\n",
        "#cc_pd = cc_p.to_pandas()  #Only use if you worked on cc_p instead of cc_pd. \n",
        "  \n",
        "#Convert variables to factor variables for modeling\n",
        "\n",
        "\n",
        "# Creating a dataframe with X%\n",
        "# values of original dataframe\n",
        "                            #Put the percentage split here\n",
        "  \n",
        "# Creating dataframe with \n",
        "# rest of the X% values\n"
      ],
      "execution_count": null,
      "outputs": []
    },
    {
      "cell_type": "markdown",
      "metadata": {
        "id": "XljQK9ybMftM"
      },
      "source": [
        "1. Explain your spliting method.  Why did you split your data this way? "
      ]
    },
    {
      "cell_type": "code",
      "metadata": {
        "id": "f1tHZn2QQfcJ"
      },
      "source": [
        "trn=cc_pd_trn.loc[:,[]]  #Put your predictors here, separated by commas. Each predictor needs to be enclosed in single quotes\n",
        "tst=cc_pd_tst.loc[:,[]]  #Put your predictors here, separated by commas. Each predictor needs to be enclosed in single quotes"
      ],
      "execution_count": null,
      "outputs": []
    },
    {
      "cell_type": "code",
      "metadata": {
        "id": "XsJRB81cos4f"
      },
      "source": [
        "#Load data into h2o\n",
        "trn_h = \n",
        "tst_h = \n",
        "\n",
        "x = \n",
        "y = \n",
        "x.remove(y)"
      ],
      "execution_count": null,
      "outputs": []
    },
    {
      "cell_type": "markdown",
      "metadata": {
        "id": "o5ezkqXZp50M"
      },
      "source": [
        "1. What tuning parameters did you pick to run and why?\n",
        "\n",
        "2. Explain the three types of \"grids?\"\n",
        "\n",
        "3. What is the advantage of grid search?\n",
        "\n",
        "4. What is the disadvantage? \n",
        "\n",
        "5. Why use Randomized Grid search?"
      ]
    },
    {
      "cell_type": "code",
      "metadata": {
        "id": "jkPYGXpDo1qM"
      },
      "source": [
        "#B. Tuning Parameters\n",
        "\n",
        "#Random Forest\n",
        "hyper_params_rf = {\n",
        "}\n",
        "\n",
        "#Logistic Regression\n",
        "hyper_params_glm = {\n",
        "}                   \n",
        "\n",
        "#Neural Nets\n",
        "hyper_params_nn = {\n",
        "}    \n",
        "\n",
        "#Gradient Boosted Machines\n",
        "hyper_params_gbm = {\n",
        "}\n",
        "\n",
        "#Naive Bayes\n",
        "hyper_params_nb = {\n",
        "}\n",
        "\n",
        "#Search Criteria (Dont Change these Parameters)\n",
        "search_criteria = {'strategy': 'RandomDiscrete', 'max_models': 10}                   "
      ],
      "execution_count": null,
      "outputs": []
    },
    {
      "cell_type": "markdown",
      "metadata": {
        "id": "ys4uyikjyC6Y"
      },
      "source": [
        "1. Explain what features you are using and why? \n",
        "\n",
        "2. Explain the new features you developed.  \n",
        "\n",
        "3. Based on your EDA, why do you think they are important?"
      ]
    },
    {
      "cell_type": "code",
      "metadata": {
        "id": "O5M_LGZMo9lP"
      },
      "source": [
        "#C. Train \n",
        "#from h2o.estimators import \n",
        "from h2o.grid.grid_search import H2OGridSearch\n",
        "from h2o.estimators import H2ORandomForestEstimator\n",
        "from h2o.estimators import H2ONaiveBayesEstimator\n",
        "from h2o.estimators.glm import H2OGeneralizedLinearEstimator\n",
        "from h2o.estimators import H2ODeepLearningEstimator\n",
        "from h2o.estimators import H2OGradientBoostingEstimator\n",
        "\n",
        "mod_grid1 = H2OGridSearch(model=,\n",
        "                          grid_id='mod_grid1',\n",
        "                          hyper_params=,\n",
        "                          search_criteria=search_criteria\n",
        "                         )\n",
        "mod_grid1.train(x=x, y=y,\n",
        "\n",
        "               )\n",
        "# Get the grid results, sorted by validation error\n",
        "mod_gridperf1 = mod_grid1.get_grid(sort_by='err', decreasing=True)"
      ],
      "execution_count": null,
      "outputs": []
    },
    {
      "cell_type": "code",
      "metadata": {
        "id": "e_ARSR_cNm7d"
      },
      "source": [
        "#AUC"
      ],
      "execution_count": null,
      "outputs": []
    },
    {
      "cell_type": "code",
      "metadata": {
        "id": "FpdlrBt4ODEN"
      },
      "source": [
        "#Confusion Matrix"
      ],
      "execution_count": null,
      "outputs": []
    },
    {
      "cell_type": "code",
      "metadata": {
        "id": "JcHmniGwzTE6"
      },
      "source": [
        "#ROC"
      ],
      "execution_count": null,
      "outputs": []
    },
    {
      "cell_type": "code",
      "metadata": {
        "id": "MKpgrVaazTE8"
      },
      "source": [
        "#Variable Importance"
      ],
      "execution_count": null,
      "outputs": []
    },
    {
      "cell_type": "markdown",
      "metadata": {
        "id": "xikOEkRun9o-"
      },
      "source": [
        "1. Which features are NOT important in the model? Why do you think that is?\n",
        "\n",
        "2. Were any of the features you developed important in either model? \n",
        "\n",
        "3. Why do you think they were (or where not)?\n",
        "\n",
        "4. Calculate the overall Accuracy of your model? How does the Accuracy compare to a baseline accuracy? Is Accuracy a good measure of effectiveness of your model for this data, why or why not?\n",
        "\n",
        "5. Do you think your model has a reliable prediction? Why or Why Not?"
      ]
    }
  ]
}